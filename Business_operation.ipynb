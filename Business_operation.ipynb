{
 "cells": [
  {
   "cell_type": "code",
   "execution_count": 1,
   "id": "a559348a-1b52-45cc-8f8d-c2f399dc60f2",
   "metadata": {},
   "outputs": [],
   "source": [
    "import pandas as pd\n",
    "from scipy import stats as st\n"
   ]
  },
  {
   "cell_type": "code",
   "execution_count": 2,
   "id": "aac57648-2974-4409-a29e-1aaf5941120e",
   "metadata": {},
   "outputs": [],
   "source": [
    "def p_value_reader(p_value,alpha):\n",
    "    if p_value<alpha:\n",
    "        print(\"Reject the null hypothesis\")\n",
    "    else:\n",
    "        print(\"Fail to reject null hypothesis\")"
   ]
  },
  {
   "cell_type": "code",
   "execution_count": 3,
   "id": "338937ee-f8ed-4146-816f-4ef7c7208304",
   "metadata": {},
   "outputs": [],
   "source": [
    "chocolate_weight=pd.read_csv(\"chocolate_weight.csv\")"
   ]
  },
  {
   "cell_type": "code",
   "execution_count": 4,
   "id": "a7d3da8a-e49a-4fa8-a07d-506a4b0e7241",
   "metadata": {},
   "outputs": [
    {
     "data": {
      "text/html": [
       "<div>\n",
       "<style scoped>\n",
       "    .dataframe tbody tr th:only-of-type {\n",
       "        vertical-align: middle;\n",
       "    }\n",
       "\n",
       "    .dataframe tbody tr th {\n",
       "        vertical-align: top;\n",
       "    }\n",
       "\n",
       "    .dataframe thead th {\n",
       "        text-align: right;\n",
       "    }\n",
       "</style>\n",
       "<table border=\"1\" class=\"dataframe\">\n",
       "  <thead>\n",
       "    <tr style=\"text-align: right;\">\n",
       "      <th></th>\n",
       "      <th>weight</th>\n",
       "    </tr>\n",
       "  </thead>\n",
       "  <tbody>\n",
       "    <tr>\n",
       "      <th>0</th>\n",
       "      <td>101.5</td>\n",
       "    </tr>\n",
       "    <tr>\n",
       "      <th>1</th>\n",
       "      <td>98.3</td>\n",
       "    </tr>\n",
       "    <tr>\n",
       "      <th>2</th>\n",
       "      <td>99.7</td>\n",
       "    </tr>\n",
       "    <tr>\n",
       "      <th>3</th>\n",
       "      <td>100.2</td>\n",
       "    </tr>\n",
       "    <tr>\n",
       "      <th>4</th>\n",
       "      <td>102.1</td>\n",
       "    </tr>\n",
       "  </tbody>\n",
       "</table>\n",
       "</div>"
      ],
      "text/plain": [
       "   weight\n",
       "0   101.5\n",
       "1    98.3\n",
       "2    99.7\n",
       "3   100.2\n",
       "4   102.1"
      ]
     },
     "execution_count": 4,
     "metadata": {},
     "output_type": "execute_result"
    }
   ],
   "source": [
    "chocolate_weight.head()"
   ]
  },
  {
   "cell_type": "code",
   "execution_count": 5,
   "id": "cb15d63c-93d1-4f31-8963-5bfbc4f9bccf",
   "metadata": {},
   "outputs": [],
   "source": [
    "t_value, p_value = st.ttest_1samp(chocolate_weight['weight'], 100)"
   ]
  },
  {
   "cell_type": "code",
   "execution_count": 9,
   "id": "c8d0eefe-e382-4fbf-b5d5-aa4ffe514ad8",
   "metadata": {},
   "outputs": [
    {
     "name": "stdout",
     "output_type": "stream",
     "text": [
      "Fail to reject null hypothesis\n"
     ]
    }
   ],
   "source": [
    "p_value_reader(p_value,0.05)"
   ]
  },
  {
   "cell_type": "code",
   "execution_count": 10,
   "id": "f5e3fada-b83e-4bda-993a-acf9f483cb0f",
   "metadata": {},
   "outputs": [],
   "source": [
    "chocolate_thickness=pd.read_csv(\"chocolate_thickness.csv\")"
   ]
  },
  {
   "cell_type": "code",
   "execution_count": 12,
   "id": "1e49c825-1e7b-41c9-b68c-1b2db23115ed",
   "metadata": {},
   "outputs": [
    {
     "data": {
      "text/html": [
       "<div>\n",
       "<style scoped>\n",
       "    .dataframe tbody tr th:only-of-type {\n",
       "        vertical-align: middle;\n",
       "    }\n",
       "\n",
       "    .dataframe tbody tr th {\n",
       "        vertical-align: top;\n",
       "    }\n",
       "\n",
       "    .dataframe thead th {\n",
       "        text-align: right;\n",
       "    }\n",
       "</style>\n",
       "<table border=\"1\" class=\"dataframe\">\n",
       "  <thead>\n",
       "    <tr style=\"text-align: right;\">\n",
       "      <th></th>\n",
       "      <th>before</th>\n",
       "      <th>after</th>\n",
       "    </tr>\n",
       "  </thead>\n",
       "  <tbody>\n",
       "    <tr>\n",
       "      <th>0</th>\n",
       "      <td>9.4</td>\n",
       "      <td>9.6</td>\n",
       "    </tr>\n",
       "    <tr>\n",
       "      <th>1</th>\n",
       "      <td>8.8</td>\n",
       "      <td>8.9</td>\n",
       "    </tr>\n",
       "    <tr>\n",
       "      <th>2</th>\n",
       "      <td>10.1</td>\n",
       "      <td>10.3</td>\n",
       "    </tr>\n",
       "    <tr>\n",
       "      <th>3</th>\n",
       "      <td>9.3</td>\n",
       "      <td>9.2</td>\n",
       "    </tr>\n",
       "    <tr>\n",
       "      <th>4</th>\n",
       "      <td>9.9</td>\n",
       "      <td>10.0</td>\n",
       "    </tr>\n",
       "  </tbody>\n",
       "</table>\n",
       "</div>"
      ],
      "text/plain": [
       "   before  after\n",
       "0     9.4    9.6\n",
       "1     8.8    8.9\n",
       "2    10.1   10.3\n",
       "3     9.3    9.2\n",
       "4     9.9   10.0"
      ]
     },
     "execution_count": 12,
     "metadata": {},
     "output_type": "execute_result"
    }
   ],
   "source": [
    "chocolate_thickness.head()"
   ]
  },
  {
   "cell_type": "code",
   "execution_count": 14,
   "id": "2f7b6a38-0720-4fd1-bc76-b32f26541d36",
   "metadata": {},
   "outputs": [
    {
     "data": {
      "text/plain": [
       "before    9.470000\n",
       "after     9.526667\n",
       "dtype: float64"
      ]
     },
     "execution_count": 14,
     "metadata": {},
     "output_type": "execute_result"
    }
   ],
   "source": [
    "chocolate_thickness.mean()"
   ]
  },
  {
   "cell_type": "code",
   "execution_count": 15,
   "id": "b44fe4cd-4827-4802-a466-022169da7d39",
   "metadata": {},
   "outputs": [],
   "source": [
    "t_value, p_value = st.ttest_rel(chocolate_thickness['after'],\n",
    "                                chocolate_thickness['before'], \n",
    "                                alternative = 'greater')"
   ]
  },
  {
   "cell_type": "code",
   "execution_count": 16,
   "id": "a3a0678d-b9d5-4ac2-97c1-7da17ffbd2f2",
   "metadata": {},
   "outputs": [
    {
     "name": "stdout",
     "output_type": "stream",
     "text": [
      "Reject the null hypothesis\n"
     ]
    }
   ],
   "source": [
    "p_value_reader(p_value, 0.1)"
   ]
  },
  {
   "cell_type": "code",
   "execution_count": 17,
   "id": "36c9e1af-3803-4b7b-8857-5494ddb021c6",
   "metadata": {},
   "outputs": [],
   "source": [
    "chocolate_sweetness=pd.read_csv(\"chocolate_sweetness.csv\")"
   ]
  },
  {
   "cell_type": "code",
   "execution_count": 18,
   "id": "b1948591-2956-4013-9324-2357debb74dc",
   "metadata": {},
   "outputs": [
    {
     "data": {
      "text/html": [
       "<div>\n",
       "<style scoped>\n",
       "    .dataframe tbody tr th:only-of-type {\n",
       "        vertical-align: middle;\n",
       "    }\n",
       "\n",
       "    .dataframe tbody tr th {\n",
       "        vertical-align: top;\n",
       "    }\n",
       "\n",
       "    .dataframe thead th {\n",
       "        text-align: right;\n",
       "    }\n",
       "</style>\n",
       "<table border=\"1\" class=\"dataframe\">\n",
       "  <thead>\n",
       "    <tr style=\"text-align: right;\">\n",
       "      <th></th>\n",
       "      <th>regular_sugar</th>\n",
       "      <th>sugar_substitute</th>\n",
       "    </tr>\n",
       "  </thead>\n",
       "  <tbody>\n",
       "    <tr>\n",
       "      <th>0</th>\n",
       "      <td>35.4</td>\n",
       "      <td>34.0</td>\n",
       "    </tr>\n",
       "    <tr>\n",
       "      <th>1</th>\n",
       "      <td>33.8</td>\n",
       "      <td>32.5</td>\n",
       "    </tr>\n",
       "    <tr>\n",
       "      <th>2</th>\n",
       "      <td>37.1</td>\n",
       "      <td>35.8</td>\n",
       "    </tr>\n",
       "    <tr>\n",
       "      <th>3</th>\n",
       "      <td>36.3</td>\n",
       "      <td>35.2</td>\n",
       "    </tr>\n",
       "    <tr>\n",
       "      <th>4</th>\n",
       "      <td>34.9</td>\n",
       "      <td>34.3</td>\n",
       "    </tr>\n",
       "  </tbody>\n",
       "</table>\n",
       "</div>"
      ],
      "text/plain": [
       "   regular_sugar  sugar_substitute\n",
       "0           35.4              34.0\n",
       "1           33.8              32.5\n",
       "2           37.1              35.8\n",
       "3           36.3              35.2\n",
       "4           34.9              34.3"
      ]
     },
     "execution_count": 18,
     "metadata": {},
     "output_type": "execute_result"
    }
   ],
   "source": [
    "chocolate_sweetness.head()"
   ]
  },
  {
   "cell_type": "code",
   "execution_count": 19,
   "id": "ec565ab0-6800-484c-9ba8-ea710efcdff9",
   "metadata": {},
   "outputs": [
    {
     "data": {
      "text/plain": [
       "regular_sugar       35.02\n",
       "sugar_substitute    34.02\n",
       "dtype: float64"
      ]
     },
     "execution_count": 19,
     "metadata": {},
     "output_type": "execute_result"
    }
   ],
   "source": [
    "chocolate_sweetness.mean()"
   ]
  },
  {
   "cell_type": "code",
   "execution_count": 20,
   "id": "9bf8100b-e05b-4601-8ef3-05247a293957",
   "metadata": {},
   "outputs": [
    {
     "name": "stdout",
     "output_type": "stream",
     "text": [
      "Fail to reject the null hypothesis. Variances can be assumed equal.\n",
      "Perform T-Test for 2 samples\n"
     ]
    }
   ],
   "source": [
    "levene_stat, levene_p_value = st.levene(chocolate_sweetness['sugar_substitute'], \n",
    "                                        chocolate_sweetness['regular_sugar'])\n",
    "if levene_p_value < 0.05:\n",
    "    print(\"Reject the null hypothesis. Variances are unequal.\")\n",
    "    print(\"Perform Welch's Test\")\n",
    "else:\n",
    "    print(\"Fail to reject the null hypothesis. Variances can be assumed equal.\")\n",
    "    print(\"Perform T-Test for 2 samples\")"
   ]
  },
  {
   "cell_type": "code",
   "execution_count": 21,
   "id": "486a2488-ecbf-46fe-bc1c-bd2f8d1271d5",
   "metadata": {},
   "outputs": [
    {
     "name": "stdout",
     "output_type": "stream",
     "text": [
      "Reject the null hypothesis\n"
     ]
    }
   ],
   "source": [
    "t_statistic, p_value = st.ttest_ind(chocolate_sweetness['sugar_substitute'], \n",
    "                                    chocolate_sweetness['regular_sugar'], \n",
    "                                    equal_var=True,\n",
    "                                    alternative = 'two-sided')\n",
    "\n",
    "p_value_reader(p_value, 0.05)"
   ]
  },
  {
   "cell_type": "code",
   "execution_count": 22,
   "id": "f2e07704-1106-4044-9ce3-8cd53a5bd54b",
   "metadata": {},
   "outputs": [
    {
     "data": {
      "text/html": [
       "<div>\n",
       "<style scoped>\n",
       "    .dataframe tbody tr th:only-of-type {\n",
       "        vertical-align: middle;\n",
       "    }\n",
       "\n",
       "    .dataframe tbody tr th {\n",
       "        vertical-align: top;\n",
       "    }\n",
       "\n",
       "    .dataframe thead th {\n",
       "        text-align: right;\n",
       "    }\n",
       "</style>\n",
       "<table border=\"1\" class=\"dataframe\">\n",
       "  <thead>\n",
       "    <tr style=\"text-align: right;\">\n",
       "      <th></th>\n",
       "      <th>Preference</th>\n",
       "    </tr>\n",
       "  </thead>\n",
       "  <tbody>\n",
       "    <tr>\n",
       "      <th>0</th>\n",
       "      <td>Spicy Cinnamon</td>\n",
       "    </tr>\n",
       "    <tr>\n",
       "      <th>1</th>\n",
       "      <td>Cool Mint</td>\n",
       "    </tr>\n",
       "    <tr>\n",
       "      <th>2</th>\n",
       "      <td>Spicy Cinnamon</td>\n",
       "    </tr>\n",
       "    <tr>\n",
       "      <th>3</th>\n",
       "      <td>Spicy Cinnamon</td>\n",
       "    </tr>\n",
       "    <tr>\n",
       "      <th>4</th>\n",
       "      <td>Cool Mint</td>\n",
       "    </tr>\n",
       "  </tbody>\n",
       "</table>\n",
       "</div>"
      ],
      "text/plain": [
       "       Preference\n",
       "0  Spicy Cinnamon\n",
       "1       Cool Mint\n",
       "2  Spicy Cinnamon\n",
       "3  Spicy Cinnamon\n",
       "4       Cool Mint"
      ]
     },
     "execution_count": 22,
     "metadata": {},
     "output_type": "execute_result"
    }
   ],
   "source": [
    "df4 = pd.read_csv(\"chocolate_preferences.csv\")\n",
    "df4.head()"
   ]
  },
  {
   "cell_type": "code",
   "execution_count": 23,
   "id": "6ab1f16e-a531-49c3-9bcd-e9744ac3f9eb",
   "metadata": {},
   "outputs": [],
   "source": [
    "observed_frequencies = df4['Preference'].value_counts()\n",
    "expected_frequencies = [len(df4) / 2, len(df4) / 2]\n",
    "chi_square_stat, p_value = st.chisquare(observed_frequencies, expected_frequencies)"
   ]
  },
  {
   "cell_type": "code",
   "execution_count": 24,
   "id": "6e1ba0db-b60d-4bb6-85c4-cd90babfcaf9",
   "metadata": {},
   "outputs": [
    {
     "name": "stdout",
     "output_type": "stream",
     "text": [
      "Fail to reject null hypothesis\n"
     ]
    }
   ],
   "source": [
    "p_value_reader(p_value, 0.01)"
   ]
  },
  {
   "cell_type": "code",
   "execution_count": 25,
   "id": "e41feae9-2a9e-493d-9df3-299579543839",
   "metadata": {},
   "outputs": [
    {
     "data": {
      "text/html": [
       "<div>\n",
       "<style scoped>\n",
       "    .dataframe tbody tr th:only-of-type {\n",
       "        vertical-align: middle;\n",
       "    }\n",
       "\n",
       "    .dataframe tbody tr th {\n",
       "        vertical-align: top;\n",
       "    }\n",
       "\n",
       "    .dataframe thead th {\n",
       "        text-align: right;\n",
       "    }\n",
       "</style>\n",
       "<table border=\"1\" class=\"dataframe\">\n",
       "  <thead>\n",
       "    <tr style=\"text-align: right;\">\n",
       "      <th></th>\n",
       "      <th>Month</th>\n",
       "      <th>Chocolate_A</th>\n",
       "      <th>Chocolate_B</th>\n",
       "      <th>Chocolate_C</th>\n",
       "    </tr>\n",
       "  </thead>\n",
       "  <tbody>\n",
       "    <tr>\n",
       "      <th>0</th>\n",
       "      <td>1</td>\n",
       "      <td>100</td>\n",
       "      <td>110</td>\n",
       "      <td>120</td>\n",
       "    </tr>\n",
       "    <tr>\n",
       "      <th>1</th>\n",
       "      <td>2</td>\n",
       "      <td>105</td>\n",
       "      <td>115</td>\n",
       "      <td>125</td>\n",
       "    </tr>\n",
       "    <tr>\n",
       "      <th>2</th>\n",
       "      <td>3</td>\n",
       "      <td>95</td>\n",
       "      <td>105</td>\n",
       "      <td>115</td>\n",
       "    </tr>\n",
       "    <tr>\n",
       "      <th>3</th>\n",
       "      <td>4</td>\n",
       "      <td>90</td>\n",
       "      <td>100</td>\n",
       "      <td>110</td>\n",
       "    </tr>\n",
       "    <tr>\n",
       "      <th>4</th>\n",
       "      <td>5</td>\n",
       "      <td>105</td>\n",
       "      <td>115</td>\n",
       "      <td>125</td>\n",
       "    </tr>\n",
       "  </tbody>\n",
       "</table>\n",
       "</div>"
      ],
      "text/plain": [
       "   Month  Chocolate_A  Chocolate_B  Chocolate_C\n",
       "0      1          100          110          120\n",
       "1      2          105          115          125\n",
       "2      3           95          105          115\n",
       "3      4           90          100          110\n",
       "4      5          105          115          125"
      ]
     },
     "execution_count": 25,
     "metadata": {},
     "output_type": "execute_result"
    }
   ],
   "source": [
    "df5 = pd.read_csv(\"chocolate_production.csv\")\n",
    "df5.head()"
   ]
  },
  {
   "cell_type": "code",
   "execution_count": 26,
   "id": "4998d47d-c7bb-4572-8386-6e6fb0b10122",
   "metadata": {},
   "outputs": [
    {
     "data": {
      "text/plain": [
       "Chocolate_A     97.5\n",
       "Chocolate_B    107.5\n",
       "Chocolate_C    117.5\n",
       "dtype: float64"
      ]
     },
     "execution_count": 26,
     "metadata": {},
     "output_type": "execute_result"
    }
   ],
   "source": [
    "df5.iloc[:,1:].mean()"
   ]
  },
  {
   "cell_type": "code",
   "execution_count": 27,
   "id": "90baa3b8-e5a6-4b74-b036-fed32daf4e6f",
   "metadata": {},
   "outputs": [
    {
     "name": "stdout",
     "output_type": "stream",
     "text": [
      "Reject the null hypothesis\n"
     ]
    }
   ],
   "source": [
    "F_statistic, p_value = st.f_oneway(df5['Chocolate_A'], \n",
    "                                      df5['Chocolate_B'], \n",
    "                                      df5['Chocolate_C'])\n",
    "# Interpret the results\n",
    "p_value_reader(p_value, 0.05)"
   ]
  },
  {
   "cell_type": "code",
   "execution_count": 28,
   "id": "9f4f9321-07c0-4690-b95d-c9fed33ce851",
   "metadata": {},
   "outputs": [],
   "source": [
    "from statsmodels.multivariate.manova import MANOVA"
   ]
  },
  {
   "cell_type": "code",
   "execution_count": 29,
   "id": "0a901ec4-5530-4ecd-bcad-43e61dd14115",
   "metadata": {},
   "outputs": [
    {
     "data": {
      "text/html": [
       "<div>\n",
       "<style scoped>\n",
       "    .dataframe tbody tr th:only-of-type {\n",
       "        vertical-align: middle;\n",
       "    }\n",
       "\n",
       "    .dataframe tbody tr th {\n",
       "        vertical-align: top;\n",
       "    }\n",
       "\n",
       "    .dataframe thead th {\n",
       "        text-align: right;\n",
       "    }\n",
       "</style>\n",
       "<table border=\"1\" class=\"dataframe\">\n",
       "  <thead>\n",
       "    <tr style=\"text-align: right;\">\n",
       "      <th></th>\n",
       "      <th>Region</th>\n",
       "      <th>Chocolate_A_Sales</th>\n",
       "      <th>Chocolate_B_Sales</th>\n",
       "      <th>Chocolate_C_Sales</th>\n",
       "      <th>Chocolate_A_Satisfaction</th>\n",
       "      <th>Chocolate_B_Satisfaction</th>\n",
       "      <th>Chocolate_C_Satisfaction</th>\n",
       "    </tr>\n",
       "  </thead>\n",
       "  <tbody>\n",
       "    <tr>\n",
       "      <th>0</th>\n",
       "      <td>1</td>\n",
       "      <td>100</td>\n",
       "      <td>110</td>\n",
       "      <td>120</td>\n",
       "      <td>90</td>\n",
       "      <td>85</td>\n",
       "      <td>95</td>\n",
       "    </tr>\n",
       "    <tr>\n",
       "      <th>1</th>\n",
       "      <td>2</td>\n",
       "      <td>105</td>\n",
       "      <td>115</td>\n",
       "      <td>125</td>\n",
       "      <td>95</td>\n",
       "      <td>88</td>\n",
       "      <td>98</td>\n",
       "    </tr>\n",
       "    <tr>\n",
       "      <th>2</th>\n",
       "      <td>3</td>\n",
       "      <td>95</td>\n",
       "      <td>105</td>\n",
       "      <td>115</td>\n",
       "      <td>88</td>\n",
       "      <td>83</td>\n",
       "      <td>93</td>\n",
       "    </tr>\n",
       "    <tr>\n",
       "      <th>3</th>\n",
       "      <td>4</td>\n",
       "      <td>90</td>\n",
       "      <td>100</td>\n",
       "      <td>110</td>\n",
       "      <td>80</td>\n",
       "      <td>75</td>\n",
       "      <td>85</td>\n",
       "    </tr>\n",
       "    <tr>\n",
       "      <th>4</th>\n",
       "      <td>5</td>\n",
       "      <td>105</td>\n",
       "      <td>115</td>\n",
       "      <td>125</td>\n",
       "      <td>92</td>\n",
       "      <td>87</td>\n",
       "      <td>97</td>\n",
       "    </tr>\n",
       "  </tbody>\n",
       "</table>\n",
       "</div>"
      ],
      "text/plain": [
       "   Region  Chocolate_A_Sales  Chocolate_B_Sales  Chocolate_C_Sales  \\\n",
       "0       1                100                110                120   \n",
       "1       2                105                115                125   \n",
       "2       3                 95                105                115   \n",
       "3       4                 90                100                110   \n",
       "4       5                105                115                125   \n",
       "\n",
       "   Chocolate_A_Satisfaction  Chocolate_B_Satisfaction  \\\n",
       "0                        90                        85   \n",
       "1                        95                        88   \n",
       "2                        88                        83   \n",
       "3                        80                        75   \n",
       "4                        92                        87   \n",
       "\n",
       "   Chocolate_C_Satisfaction  \n",
       "0                        95  \n",
       "1                        98  \n",
       "2                        93  \n",
       "3                        85  \n",
       "4                        97  "
      ]
     },
     "execution_count": 29,
     "metadata": {},
     "output_type": "execute_result"
    }
   ],
   "source": [
    "df6 = pd.read_csv('chocolate_satisfaction.csv')\n",
    "df6.head()"
   ]
  },
  {
   "cell_type": "code",
   "execution_count": 30,
   "id": "7ab6268c-a90b-4a5c-a3ef-0963743ef0d7",
   "metadata": {},
   "outputs": [
    {
     "name": "stdout",
     "output_type": "stream",
     "text": [
      "                             Multivariate linear model\n",
      "====================================================================================\n",
      "                                                                                    \n",
      "------------------------------------------------------------------------------------\n",
      "       Intercept               Value        Num DF Den DF       F Value       Pr > F\n",
      "------------------------------------------------------------------------------------\n",
      "          Wilks' lambda              0.0000 5.0000 6.0000 57800209121331.3594 0.0000\n",
      "         Pillai's trace              1.0000 5.0000 6.0000 57800209121331.3672 0.0000\n",
      " Hotelling-Lawley trace 48166840934442.8047 5.0000 6.0000 57800209121331.3672 0.0000\n",
      "    Roy's greatest root 48166840934442.8047 5.0000 6.0000 57800209121331.3672 0.0000\n",
      "------------------------------------------------------------------------------------\n",
      "                                                                                    \n",
      "-----------------------------------------------------------------------------------------\n",
      "              Region              Value       Num DF      Den DF      F Value      Pr > F\n",
      "-----------------------------------------------------------------------------------------\n",
      "               Wilks' lambda      0.7769      5.0000      6.0000       0.3446      0.8688\n",
      "              Pillai's trace      0.2231      5.0000      6.0000       0.3446      0.8688\n",
      "      Hotelling-Lawley trace      0.2871      5.0000      6.0000       0.3446      0.8688\n",
      "         Roy's greatest root      0.2871      5.0000      6.0000       0.3446      0.8688\n",
      "====================================================================================\n",
      "\n"
     ]
    }
   ],
   "source": [
    "manova = MANOVA.from_formula('Chocolate_A_Sales + Chocolate_B_Sales + Chocolate_C_Sales + Chocolate_A_Satisfaction + Chocolate_B_Satisfaction + Chocolate_C_Satisfaction ~ Region', data=df6)\n",
    "result = manova.mv_test()\n",
    "print(result)"
   ]
  },
  {
   "cell_type": "code",
   "execution_count": 31,
   "id": "070580d6-eb8e-4615-9d4a-0b0b9ca5f108",
   "metadata": {},
   "outputs": [
    {
     "name": "stdout",
     "output_type": "stream",
     "text": [
      "Fail to reject null hypothesis\n"
     ]
    }
   ],
   "source": [
    "p_value = result.results['Region']['stat'].values[1, -1]\n",
    "p_value_reader(p_value, 0.05)"
   ]
  },
  {
   "cell_type": "code",
   "execution_count": null,
   "id": "ada60790-7134-4b9d-97f3-32f7d73536ef",
   "metadata": {},
   "outputs": [],
   "source": []
  }
 ],
 "metadata": {
  "kernelspec": {
   "display_name": "Python 3 (ipykernel)",
   "language": "python",
   "name": "python3"
  },
  "language_info": {
   "codemirror_mode": {
    "name": "ipython",
    "version": 3
   },
   "file_extension": ".py",
   "mimetype": "text/x-python",
   "name": "python",
   "nbconvert_exporter": "python",
   "pygments_lexer": "ipython3",
   "version": "3.8.10"
  }
 },
 "nbformat": 4,
 "nbformat_minor": 5
}
